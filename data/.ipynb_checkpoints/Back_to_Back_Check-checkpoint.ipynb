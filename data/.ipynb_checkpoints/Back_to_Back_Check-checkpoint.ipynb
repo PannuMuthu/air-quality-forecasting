{
 "cells": [
  {
   "cell_type": "code",
   "execution_count": 19,
   "metadata": {},
   "outputs": [],
   "source": [
    "import pandas as pd\n",
    "import numpy as np"
   ]
  },
  {
   "cell_type": "code",
   "execution_count": 20,
   "metadata": {},
   "outputs": [],
   "source": [
    "weather_pd = pd.read_csv('./weather_ts.csv')"
   ]
  },
  {
   "cell_type": "code",
   "execution_count": 21,
   "metadata": {},
   "outputs": [
    {
     "data": {
      "text/html": [
       "<div>\n",
       "<table border=\"1\" class=\"dataframe\">\n",
       "  <thead>\n",
       "    <tr style=\"text-align: right;\">\n",
       "      <th></th>\n",
       "      <th>time_stamp</th>\n",
       "      <th>aqi_W San Gabriel Vly</th>\n",
       "      <th>aqi_E San Fernando Vly</th>\n",
       "      <th>aqi_SW Coastal LA</th>\n",
       "      <th>aqi_San Gabriel Mts</th>\n",
       "      <th>aqi_SW San Bernardino</th>\n",
       "      <th>aqi_Southeast LA CO</th>\n",
       "      <th>aqi_South Coastal LA</th>\n",
       "      <th>aqi_Central LA CO</th>\n",
       "      <th>aqi_NW Coastal LA</th>\n",
       "      <th>aqi_Santa Clarita Vly</th>\n",
       "      <th>aqi_W San Fernando Vly</th>\n",
       "      <th>aqi_E San Gabriel V-2</th>\n",
       "    </tr>\n",
       "  </thead>\n",
       "  <tbody>\n",
       "    <tr>\n",
       "      <th>0</th>\n",
       "      <td>2016-11-03 19:00:00</td>\n",
       "      <td>15.0</td>\n",
       "      <td>52.0</td>\n",
       "      <td>22.0</td>\n",
       "      <td>23.0</td>\n",
       "      <td>51.0</td>\n",
       "      <td>33.0</td>\n",
       "      <td>22.0</td>\n",
       "      <td>52.0</td>\n",
       "      <td>22.0</td>\n",
       "      <td>18.0</td>\n",
       "      <td>52.0</td>\n",
       "      <td>23.0</td>\n",
       "    </tr>\n",
       "    <tr>\n",
       "      <th>1</th>\n",
       "      <td>2016-11-03 20:00:00</td>\n",
       "      <td>24.0</td>\n",
       "      <td>60.0</td>\n",
       "      <td>32.0</td>\n",
       "      <td>24.0</td>\n",
       "      <td>48.0</td>\n",
       "      <td>40.0</td>\n",
       "      <td>32.0</td>\n",
       "      <td>60.0</td>\n",
       "      <td>32.0</td>\n",
       "      <td>21.0</td>\n",
       "      <td>60.0</td>\n",
       "      <td>24.0</td>\n",
       "    </tr>\n",
       "    <tr>\n",
       "      <th>2</th>\n",
       "      <td>2016-11-03 21:00:00</td>\n",
       "      <td>30.0</td>\n",
       "      <td>53.0</td>\n",
       "      <td>43.0</td>\n",
       "      <td>23.0</td>\n",
       "      <td>54.0</td>\n",
       "      <td>56.0</td>\n",
       "      <td>43.0</td>\n",
       "      <td>53.0</td>\n",
       "      <td>43.0</td>\n",
       "      <td>23.0</td>\n",
       "      <td>53.0</td>\n",
       "      <td>18.0</td>\n",
       "    </tr>\n",
       "    <tr>\n",
       "      <th>3</th>\n",
       "      <td>2016-11-03 22:00:00</td>\n",
       "      <td>32.0</td>\n",
       "      <td>57.0</td>\n",
       "      <td>46.0</td>\n",
       "      <td>24.0</td>\n",
       "      <td>54.0</td>\n",
       "      <td>64.0</td>\n",
       "      <td>46.0</td>\n",
       "      <td>57.0</td>\n",
       "      <td>46.0</td>\n",
       "      <td>24.0</td>\n",
       "      <td>57.0</td>\n",
       "      <td>18.0</td>\n",
       "    </tr>\n",
       "    <tr>\n",
       "      <th>4</th>\n",
       "      <td>2016-11-03 23:00:00</td>\n",
       "      <td>30.0</td>\n",
       "      <td>63.0</td>\n",
       "      <td>40.0</td>\n",
       "      <td>22.0</td>\n",
       "      <td>52.0</td>\n",
       "      <td>57.0</td>\n",
       "      <td>40.0</td>\n",
       "      <td>63.0</td>\n",
       "      <td>40.0</td>\n",
       "      <td>22.0</td>\n",
       "      <td>63.0</td>\n",
       "      <td>9.0</td>\n",
       "    </tr>\n",
       "  </tbody>\n",
       "</table>\n",
       "</div>"
      ],
      "text/plain": [
       "            time_stamp  aqi_W San Gabriel Vly  aqi_E San Fernando Vly  \\\n",
       "0  2016-11-03 19:00:00                   15.0                    52.0   \n",
       "1  2016-11-03 20:00:00                   24.0                    60.0   \n",
       "2  2016-11-03 21:00:00                   30.0                    53.0   \n",
       "3  2016-11-03 22:00:00                   32.0                    57.0   \n",
       "4  2016-11-03 23:00:00                   30.0                    63.0   \n",
       "\n",
       "   aqi_SW Coastal LA  aqi_San Gabriel Mts  aqi_SW San Bernardino  \\\n",
       "0               22.0                 23.0                   51.0   \n",
       "1               32.0                 24.0                   48.0   \n",
       "2               43.0                 23.0                   54.0   \n",
       "3               46.0                 24.0                   54.0   \n",
       "4               40.0                 22.0                   52.0   \n",
       "\n",
       "   aqi_Southeast LA CO  aqi_South Coastal LA  aqi_Central LA CO  \\\n",
       "0                 33.0                  22.0               52.0   \n",
       "1                 40.0                  32.0               60.0   \n",
       "2                 56.0                  43.0               53.0   \n",
       "3                 64.0                  46.0               57.0   \n",
       "4                 57.0                  40.0               63.0   \n",
       "\n",
       "   aqi_NW Coastal LA  aqi_Santa Clarita Vly  aqi_W San Fernando Vly  \\\n",
       "0               22.0                   18.0                    52.0   \n",
       "1               32.0                   21.0                    60.0   \n",
       "2               43.0                   23.0                    53.0   \n",
       "3               46.0                   24.0                    57.0   \n",
       "4               40.0                   22.0                    63.0   \n",
       "\n",
       "   aqi_E San Gabriel V-2  \n",
       "0                   23.0  \n",
       "1                   24.0  \n",
       "2                   18.0  \n",
       "3                   18.0  \n",
       "4                    9.0  "
      ]
     },
     "execution_count": 21,
     "metadata": {},
     "output_type": "execute_result"
    }
   ],
   "source": [
    "weather_pd.head()"
   ]
  },
  {
   "cell_type": "code",
   "execution_count": 22,
   "metadata": {},
   "outputs": [
    {
     "data": {
      "text/plain": [
       "7229"
      ]
     },
     "execution_count": 22,
     "metadata": {},
     "output_type": "execute_result"
    }
   ],
   "source": [
    "len(weather_pd)"
   ]
  },
  {
   "cell_type": "code",
   "execution_count": 23,
   "metadata": {},
   "outputs": [],
   "source": [
    "sensors = ['W San Gabriel Vly',\n",
    " 'E San Fernando Vly',\n",
    " 'SW Coastal LA',\n",
    " 'San Gabriel Mts',\n",
    " 'SW San Bernardino',\n",
    " 'Southeast LA CO',\n",
    " 'South Coastal LA',\n",
    " 'Central LA CO',\n",
    " 'NW Coastal LA',\n",
    " 'Santa Clarita Vly',\n",
    " 'W San Fernando Vly',\n",
    " 'E San Gabriel V-2']"
   ]
  },
  {
   "cell_type": "code",
   "execution_count": 24,
   "metadata": {},
   "outputs": [],
   "source": [
    "import numpy as np\n",
    "import tensorflow as tf\n",
    "\n",
    "\n",
    "def masked_mse_tf(preds, labels, null_val=np.nan):\n",
    "    \"\"\"\n",
    "    Accuracy with masking.\n",
    "    :param preds:\n",
    "    :param labels:\n",
    "    :param null_val:\n",
    "    :return:\n",
    "    \"\"\"\n",
    "    if np.isnan(null_val):\n",
    "        mask = ~tf.is_nan(labels)\n",
    "    else:\n",
    "        mask = tf.not_equal(labels, null_val)\n",
    "    mask = tf.cast(mask, tf.float32)\n",
    "    mask /= tf.reduce_mean(mask)\n",
    "    mask = tf.where(tf.is_nan(mask), tf.zeros_like(mask), mask)\n",
    "    loss = tf.square(tf.subtract(preds, labels))\n",
    "    loss = loss * mask\n",
    "    loss = tf.where(tf.is_nan(loss), tf.zeros_like(loss), loss)\n",
    "    return tf.reduce_mean(loss)\n",
    "\n",
    "\n",
    "def masked_mae_tf(preds, labels, null_val=np.nan):\n",
    "    \"\"\"\n",
    "    Accuracy with masking.\n",
    "    :param preds:\n",
    "    :param labels:\n",
    "    :param null_val:\n",
    "    :return:\n",
    "    \"\"\"\n",
    "    if np.isnan(null_val):\n",
    "        mask = ~tf.is_nan(labels)\n",
    "    else:\n",
    "        mask = tf.not_equal(labels, null_val)\n",
    "    mask = tf.cast(mask, tf.float32)\n",
    "    mask /= tf.reduce_mean(mask)\n",
    "    mask = tf.where(tf.is_nan(mask), tf.zeros_like(mask), mask)\n",
    "    loss = tf.abs(tf.subtract(preds, labels))\n",
    "    loss = loss * mask\n",
    "    loss = tf.where(tf.is_nan(loss), tf.zeros_like(loss), loss)\n",
    "    return tf.reduce_mean(loss)\n",
    "\n",
    "\n",
    "def masked_rmse_tf(preds, labels, null_val=np.nan):\n",
    "    \"\"\"\n",
    "    Accuracy with masking.\n",
    "    :param preds:\n",
    "    :param labels:\n",
    "    :param null_val:\n",
    "    :return:\n",
    "    \"\"\"\n",
    "    return tf.sqrt(masked_mse_tf(preds=preds, labels=labels, null_val=null_val))\n",
    "\n",
    "\n",
    "def masked_rmse_np(preds, labels, null_val=np.nan):\n",
    "    return np.sqrt(masked_mse_np(preds=preds, labels=labels, null_val=null_val))\n",
    "\n",
    "\n",
    "def masked_mse_np(preds, labels, null_val=np.nan):\n",
    "    with np.errstate(divide='ignore', invalid='ignore'):\n",
    "        if np.isnan(null_val):\n",
    "            mask = ~np.isnan(labels)\n",
    "        else:\n",
    "            mask = np.not_equal(labels, null_val)\n",
    "        mask = mask.astype('float64')\n",
    "        mask /= np.mean(mask)\n",
    "        rmse = np.square(np.subtract(preds, labels)).astype('float64')\n",
    "        rmse = np.nan_to_num(rmse * mask)\n",
    "        return np.mean(rmse)\n",
    "\n",
    "\n",
    "def masked_mae_np(preds, labels, null_val=np.nan):\n",
    "    with np.errstate(divide='ignore', invalid='ignore'):\n",
    "        if np.isnan(null_val):\n",
    "            mask = ~np.isnan(labels)\n",
    "        else:\n",
    "            mask = np.not_equal(labels, null_val)\n",
    "        mask = mask.astype('float32')\n",
    "        mask /= np.mean(mask)\n",
    "        mae = np.abs(np.subtract(preds, labels)).astype('float32')\n",
    "        mae = np.nan_to_num(mae * mask)\n",
    "        return np.mean(mae)\n",
    "\n",
    "\n",
    "def masked_mape_np(preds, labels, null_val=np.nan):\n",
    "    with np.errstate(divide='ignore', invalid='ignore'):\n",
    "        if np.isnan(null_val):\n",
    "            mask = ~np.isnan(labels)\n",
    "        else:\n",
    "            mask = np.not_equal(labels, null_val)\n",
    "        mask = mask.astype('float64')\n",
    "        mask /= np.mean(mask)\n",
    "        print np.mean(mask)\n",
    "        mape = np.abs(np.divide(np.subtract(preds, labels).astype('float64'), labels))\n",
    "        mape = np.nan_to_num(mask * mape)\n",
    "#         print np.mean(mape)\n",
    "        return np.mean(mape)\n",
    "\n",
    "\n",
    "# Builds loss function.\n",
    "def masked_mse_loss(scaler, null_val):\n",
    "    def loss(preds, labels):\n",
    "        if scaler:\n",
    "            preds = scaler.inverse_transform(preds)\n",
    "            labels = scaler.inverse_transform(labels)\n",
    "        return masked_mse_tf(preds=preds, labels=labels, null_val=null_val)\n",
    "\n",
    "    return loss\n",
    "\n",
    "\n",
    "def masked_rmse_loss(scaler, null_val):\n",
    "    def loss(preds, labels):\n",
    "        if scaler:\n",
    "            preds = scaler.inverse_transform(preds)\n",
    "            labels = scaler.inverse_transform(labels)\n",
    "        return masked_rmse_tf(preds=preds, labels=labels, null_val=null_val)\n",
    "\n",
    "    return loss\n",
    "\n",
    "\n",
    "def masked_mae_loss(scaler, null_val):\n",
    "    def loss(preds, labels):\n",
    "        if scaler:\n",
    "            preds = scaler.inverse_transform(preds)\n",
    "            labels = scaler.inverse_transform(labels)\n",
    "        mae = masked_mae_tf(preds=preds, labels=labels, null_val=null_val)\n",
    "        return mae\n",
    "\n",
    "    return loss\n",
    "\n",
    "\n",
    "def calculate_metrics(df_pred, df_test, null_val):\n",
    "    \"\"\"\n",
    "    Calculate the MAE, MAPE, RMSE\n",
    "    :param df_pred:\n",
    "    :param df_test:\n",
    "    :param null_val:\n",
    "    :return:\n",
    "    \"\"\"\n",
    "    mape = masked_mape_np(preds=df_pred.as_matrix(), labels=df_test.as_matrix(), null_val=null_val)\n",
    "    mae = masked_mae_np(preds=df_pred.as_matrix(), labels=df_test.as_matrix(), null_val=null_val)\n",
    "    rmse = masked_rmse_np(preds=df_pred.as_matrix(), labels=df_test.as_matrix(), null_val=null_val)\n",
    "    return mae, mape, rmse"
   ]
  },
  {
   "cell_type": "code",
   "execution_count": 25,
   "metadata": {},
   "outputs": [],
   "source": [
    "weather_pd = weather_pd.set_index('time_stamp')\n",
    "weather_train = weather_pd[0:6485]\n",
    "weather_test = weather_pd[6485:]"
   ]
  },
  {
   "cell_type": "code",
   "execution_count": 26,
   "metadata": {},
   "outputs": [],
   "source": [
    "weather_check = weather_pd[6484:-1]"
   ]
  },
  {
   "cell_type": "code",
   "execution_count": 27,
   "metadata": {},
   "outputs": [
    {
     "data": {
      "text/plain": [
       "744"
      ]
     },
     "execution_count": 27,
     "metadata": {},
     "output_type": "execute_result"
    }
   ],
   "source": [
    "len(weather_check)"
   ]
  },
  {
   "cell_type": "code",
   "execution_count": 28,
   "metadata": {},
   "outputs": [
    {
     "data": {
      "text/plain": [
       "array([[ 52.,  73.,  45., ...,  61.,  73.,  49.],\n",
       "       [ 47.,  77.,  43., ...,  62.,  77.,  60.],\n",
       "       [ 53.,  75.,  46., ...,  57.,  75.,  66.],\n",
       "       ..., \n",
       "       [ 49.,  63.,  77., ...,  56.,  63.,  43.],\n",
       "       [ 61.,  66.,  70., ...,  54.,  66.,  43.],\n",
       "       [ 70.,  70.,  60., ...,  50.,  70.,  39.]])"
      ]
     },
     "execution_count": 28,
     "metadata": {},
     "output_type": "execute_result"
    }
   ],
   "source": [
    "weather_check.as_matrix()"
   ]
  },
  {
   "cell_type": "code",
   "execution_count": 29,
   "metadata": {},
   "outputs": [
    {
     "data": {
      "text/plain": [
       "array([[ 47.,  77.,  43., ...,  62.,  77.,  60.],\n",
       "       [ 53.,  75.,  46., ...,  57.,  75.,  66.],\n",
       "       [ 50.,  76.,  49., ...,  53.,  76.,  60.],\n",
       "       ..., \n",
       "       [ 61.,  66.,  70., ...,  54.,  66.,  43.],\n",
       "       [ 70.,  70.,  60., ...,  50.,  70.,  39.],\n",
       "       [ 76.,  68.,  52., ...,  43.,  68.,  25.]])"
      ]
     },
     "execution_count": 29,
     "metadata": {},
     "output_type": "execute_result"
    }
   ],
   "source": [
    "weather_test.as_matrix()"
   ]
  },
  {
   "cell_type": "code",
   "execution_count": 30,
   "metadata": {},
   "outputs": [
    {
     "name": "stdout",
     "output_type": "stream",
     "text": [
      "1.0\n",
      "inf\n"
     ]
    }
   ],
   "source": [
    "mae, mape, rmse = calculate_metrics(weather_check, weather_test, null_val=np.nan)"
   ]
  },
  {
   "cell_type": "code",
   "execution_count": 31,
   "metadata": {},
   "outputs": [
    {
     "data": {
      "text/plain": [
       "(3.9759185, inf, 5.7966105996905162)"
      ]
     },
     "execution_count": 31,
     "metadata": {},
     "output_type": "execute_result"
    }
   ],
   "source": [
    "mae, mape, rmse"
   ]
  },
  {
   "cell_type": "code",
   "execution_count": null,
   "metadata": {},
   "outputs": [],
   "source": []
  }
 ],
 "metadata": {
  "kernelspec": {
   "display_name": "Python 2",
   "language": "python",
   "name": "python2"
  },
  "language_info": {
   "codemirror_mode": {
    "name": "ipython",
    "version": 2
   },
   "file_extension": ".py",
   "mimetype": "text/x-python",
   "name": "python",
   "nbconvert_exporter": "python",
   "pygments_lexer": "ipython2",
   "version": "2.7.12"
  }
 },
 "nbformat": 4,
 "nbformat_minor": 2
}
